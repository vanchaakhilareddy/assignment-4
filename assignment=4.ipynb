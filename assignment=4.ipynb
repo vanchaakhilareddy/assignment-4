{
 "cells": [
  {
   "cell_type": "markdown",
   "id": "348b25a0",
   "metadata": {},
   "source": [
    "# Write a Python program to create a lambda function that adds 25 to a given number passed in as an argument."
   ]
  },
  {
   "cell_type": "code",
   "execution_count": 1,
   "id": "3d2b7bec",
   "metadata": {},
   "outputs": [
    {
     "name": "stdout",
     "output_type": "stream",
     "text": [
      "enter the number,10\n",
      "35\n"
     ]
    }
   ],
   "source": [
    "add= lambda s : s + 25\n",
    "print(add(int(input('enter the number,'))))"
   ]
  },
  {
   "cell_type": "markdown",
   "id": "b1fba9b7",
   "metadata": {},
   "source": [
    "# Write a Python program to triple all numbers of a given list of integers. Use Python map"
   ]
  },
  {
   "cell_type": "code",
   "execution_count": 2,
   "id": "8fb950b1",
   "metadata": {},
   "outputs": [
    {
     "name": "stdout",
     "output_type": "stream",
     "text": [
      "enter the list of integers,1 2 3 4 5 6 7\n",
      "[3, 6, 9, 12, 15, 18, 21]\n"
     ]
    }
   ],
   "source": [
    "z = list(map(int,input('enter the list of integers,').split(' ')))\n",
    "s = list(map(lambda x:x*3,z))\n",
    "print(s)"
   ]
  },
  {
   "cell_type": "markdown",
   "id": "95957f87",
   "metadata": {},
   "source": [
    "# Write a Python program to square the elements of a list using map() function."
   ]
  },
  {
   "cell_type": "code",
   "execution_count": 3,
   "id": "7d8b6eed",
   "metadata": {},
   "outputs": [
    {
     "name": "stdout",
     "output_type": "stream",
     "text": [
      "enter the list,4 5 2 9\n",
      "[16, 25, 4, 81]\n"
     ]
    }
   ],
   "source": [
    "z = list(map(int,input('enter the list,').split(' ')))\n",
    "s = list(map(lambda x:x**2,z))\n",
    "print(s)"
   ]
  },
  {
   "cell_type": "code",
   "execution_count": null,
   "id": "71837a29",
   "metadata": {},
   "outputs": [],
   "source": []
  }
 ],
 "metadata": {
  "kernelspec": {
   "display_name": "Python 3",
   "language": "python",
   "name": "python3"
  },
  "language_info": {
   "codemirror_mode": {
    "name": "ipython",
    "version": 3
   },
   "file_extension": ".py",
   "mimetype": "text/x-python",
   "name": "python",
   "nbconvert_exporter": "python",
   "pygments_lexer": "ipython3",
   "version": "3.8.8"
  }
 },
 "nbformat": 4,
 "nbformat_minor": 5
}
